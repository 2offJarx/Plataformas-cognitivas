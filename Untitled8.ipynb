{
  "nbformat": 4,
  "nbformat_minor": 0,
  "metadata": {
    "colab": {
      "provenance": []
    },
    "kernelspec": {
      "name": "python3",
      "display_name": "Python 3"
    },
    "language_info": {
      "name": "python"
    }
  },
  "cells": [
    {
      "cell_type": "code",
      "source": [
        "import requests\n",
        "resposta=requests.get('https://api.nasa.gov/mars-photos/api/v1/rovers/curiosity/photos?sol=1000&api_key=13z1syhzgYeN1dMlxRd6yyEeHD0nIQBU16sHSp25')\n",
        "\n",
        "imagens = resposta.json()\n",
        "for a in imagens['photos']:\n",
        "  print(a['img_src'])\n",
        "  continuar = input(\"Digite sim para mostrar a próxima imagem e não para parar:\")\n",
        "  if continuar==\"não\":\n",
        "    break\n",
        ""
      ],
      "metadata": {
        "colab": {
          "base_uri": "https://localhost:8080/"
        },
        "id": "oysaGrAkuUXQ",
        "outputId": "3da15124-3e2e-4167-ca17-22954d38df42"
      },
      "execution_count": 14,
      "outputs": [
        {
          "name": "stdout",
          "output_type": "stream",
          "text": [
            "http://mars.jpl.nasa.gov/msl-raw-images/proj/msl/redops/ods/surface/sol/01000/opgs/edr/fcam/FLB_486265257EDR_F0481570FHAZ00323M_.JPG\n",
            "Digite sim para mostrar a próxima imagem e não para parar:sim\n",
            "http://mars.jpl.nasa.gov/msl-raw-images/proj/msl/redops/ods/surface/sol/01000/opgs/edr/fcam/FRB_486265257EDR_F0481570FHAZ00323M_.JPG\n",
            "Digite sim para mostrar a próxima imagem e não para parar:não\n"
          ]
        }
      ]
    }
  ]
}